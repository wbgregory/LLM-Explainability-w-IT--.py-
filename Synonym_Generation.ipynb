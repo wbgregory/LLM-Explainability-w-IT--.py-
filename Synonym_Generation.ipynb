{
 "cells": [
  {
   "cell_type": "code",
   "execution_count": 9,
   "metadata": {},
   "outputs": [
    {
     "name": "stdout",
     "output_type": "stream",
     "text": [
      "['ace', 'adept', 'champion', 'sensation', 'maven', 'mavin', 'virtuoso', 'genius', 'hotshot', 'star', 'superstar', 'whiz', 'whizz', 'wizard', 'wiz']\n",
      "['whiz']\n",
      "['whizz', 'whiz', 'whirr', 'whir', 'birr', 'purr']\n"
     ]
    }
   ],
   "source": [
    "from itertools import chain\n",
    "from nltk.corpus import wordnet\n",
    "for synset in wordnet.synsets('whiz'): \n",
    "    print(synset.lemma_names())"
   ]
  },
  {
   "cell_type": "code",
   "execution_count": 8,
   "metadata": {},
   "outputs": [
    {
     "name": "stderr",
     "output_type": "stream",
     "text": [
      "[nltk_data] Downloading package wordnet to\n",
      "[nltk_data]     C:\\Users\\william.gregory\\AppData\\Roaming\\nltk_data...\n"
     ]
    },
    {
     "data": {
      "text/plain": [
       "True"
      ]
     },
     "execution_count": 8,
     "metadata": {},
     "output_type": "execute_result"
    }
   ],
   "source": [
    "import nltk\n",
    "nltk.download('wordnet')"
   ]
  },
  {
   "cell_type": "code",
   "execution_count": 13,
   "metadata": {},
   "outputs": [
    {
     "ename": "UnsupportedOperation",
     "evalue": "not readable",
     "output_type": "error",
     "traceback": [
      "\u001b[1;31m---------------------------------------------------------------------------\u001b[0m",
      "\u001b[1;31mUnsupportedOperation\u001b[0m                      Traceback (most recent call last)",
      "\u001b[1;32mUntitled-1.ipynb Cell 3\u001b[0m line \u001b[0;36m1\n\u001b[0;32m     <a href='vscode-notebook-cell:Untitled-1.ipynb?jupyter-notebook#W2sdW50aXRsZWQ%3D?line=9'>10</a>\u001b[0m string_similar_words \u001b[39m=\u001b[39m \u001b[39mstr\u001b[39m(similar_words)\n\u001b[0;32m     <a href='vscode-notebook-cell:Untitled-1.ipynb?jupyter-notebook#W2sdW50aXRsZWQ%3D?line=10'>11</a>\u001b[0m syn_file\u001b[39m.\u001b[39mwrite(string_similar_words)\n\u001b[1;32m---> <a href='vscode-notebook-cell:Untitled-1.ipynb?jupyter-notebook#W2sdW50aXRsZWQ%3D?line=11'>12</a>\u001b[0m \u001b[39mfor\u001b[39;49;00m added_word \u001b[39min\u001b[39;49;00m syn_file:\n\u001b[0;32m     <a href='vscode-notebook-cell:Untitled-1.ipynb?jupyter-notebook#W2sdW50aXRsZWQ%3D?line=12'>13</a>\u001b[0m     added_word \u001b[39m=\u001b[39;49m added_word\u001b[39m.\u001b[39;49mstrip()\n\u001b[0;32m     <a href='vscode-notebook-cell:Untitled-1.ipynb?jupyter-notebook#W2sdW50aXRsZWQ%3D?line=13'>14</a>\u001b[0m     w1 \u001b[39m=\u001b[39;49m wordnet\u001b[39m.\u001b[39;49msynset(word)\n",
      "\u001b[1;31mUnsupportedOperation\u001b[0m: not readable"
     ]
    }
   ],
   "source": [
    "synonym_sentence = 'can you drink alcoholic drink in populace in kingdom of denmark?'\n",
    "highest_sim_level = 0\n",
    "most_acc_word = ''\n",
    "split_sentence = synonym_sentence.strip()\n",
    "for word in split_sentence:\n",
    "    for synset in wordnet.synsets(word):\n",
    "        synonym_list = word + '_synonym_list'\n",
    "        syn_file = open(synonym_list, 'w+')\n",
    "        similar_words = synset.lemma_names()\n",
    "        string_similar_words = str(similar_words)\n",
    "        syn_file.write(string_similar_words)\n",
    "        for added_word in syn_file:\n",
    "            added_word = added_word.strip()\n",
    "            w1 = wordnet.synset(word)\n",
    "            w2 = wordnet.synset(added_word) \n",
    "            sim_level = (w1.wup_similarity(w2)) \n",
    "            added_word_string = str(added_word)\n",
    "            if sim_level > highest_sim_level:\n",
    "                highest_sim_level += sim_level\n",
    "                most_acc_word = added_word_string\n",
    "print(highest_sim_level)\n",
    "print(most_acc_word)\n",
    "\n"
   ]
  },
  {
   "cell_type": "code",
   "execution_count": 4,
   "metadata": {},
   "outputs": [],
   "source": [
    "from itertools import chain\n",
    "from nltk.corpus import wordnet\n",
    "from nltk.tokenize import RegexpTokenizer\n",
    "tokenizer = RegexpTokenizer(\"[\\w']+\")\n",
    "synonym_sentence = 'can you drink alcoholic drink in populace in kingdom of denmark'\n",
    "components = tokenizer.tokenize(synonym_sentence)\n",
    "highest_sim_level = 0\n",
    "most_acc_word = ''\n",
    "synonyms = dict()\n",
    "split_sentence = synonym_sentence.split()\n",
    "nested_accumulator = 0\n",
    "nested_syns = [ [] for num in range(len(components)) ]\n",
    "nested_accumulator = 0\n",
    "for word in components:\n",
    "    syns = wordnet.synsets(word)\n",
    "    synonyms[word] = syns\n",
    "for key, value in synonyms.items():\n",
    "    file_name = str(key) + '_syns'\n",
    "    with open(file_name, 'w') as synonym_file:\n",
    "        for syn in value:\n",
    "            synonym_file.write(str(syn) + '\\n')\n",
    "        for syn in value:\n",
    "            syn_list = str(syn)\n",
    "            cut_off = syn_list.index('.')\n",
    "            isolated_syn = str(syn_list[0:cut_off])\n",
    "            nested_syns[0].append(isolated_syn)\n",
    "            nested_accumulator += 1"
   ]
  },
  {
   "cell_type": "code",
   "execution_count": 5,
   "metadata": {},
   "outputs": [
    {
     "ename": "TypeError",
     "evalue": "'list' object cannot be interpreted as an integer",
     "output_type": "error",
     "traceback": [
      "\u001b[1;31m---------------------------------------------------------------------------\u001b[0m",
      "\u001b[1;31mTypeError\u001b[0m                                 Traceback (most recent call last)",
      "\u001b[1;32mc:\\Users\\william.gregory\\OneDrive - West Point\\Documents\\GitHub\\LLM-Explainability-w-IT--.py-\\Synonym_Generation.ipynb Cell 5\u001b[0m line \u001b[0;36m1\n\u001b[0;32m     <a href='vscode-notebook-cell:/c%3A/Users/william.gregory/OneDrive%20-%20West%20Point/Documents/GitHub/LLM-Explainability-w-IT--.py-/Synonym_Generation.ipynb#W4sZmlsZQ%3D%3D?line=10'>11</a>\u001b[0m         ca_list\u001b[39m.\u001b[39mappend(random\u001b[39m.\u001b[39mchoices(\u001b[39mrange\u001b[39m(nyms),k\u001b[39m=\u001b[39mkeh))\n\u001b[0;32m     <a href='vscode-notebook-cell:/c%3A/Users/william.gregory/OneDrive%20-%20West%20Point/Documents/GitHub/LLM-Explainability-w-IT--.py-/Synonym_Generation.ipynb#W4sZmlsZQ%3D%3D?line=11'>12</a>\u001b[0m     \u001b[39mreturn\u001b[39;00m ca_list\n\u001b[1;32m---> <a href='vscode-notebook-cell:/c%3A/Users/william.gregory/OneDrive%20-%20West%20Point/Documents/GitHub/LLM-Explainability-w-IT--.py-/Synonym_Generation.ipynb#W4sZmlsZQ%3D%3D?line=12'>13</a>\u001b[0m \u001b[39mwhile\u001b[39;00m verify_covering_array(sentence_covering_array(nested_syns, k, N)):\n\u001b[0;32m     <a href='vscode-notebook-cell:/c%3A/Users/william.gregory/OneDrive%20-%20West%20Point/Documents/GitHub/LLM-Explainability-w-IT--.py-/Synonym_Generation.ipynb#W4sZmlsZQ%3D%3D?line=13'>14</a>\u001b[0m     N \u001b[39m*\u001b[39m\u001b[39m=\u001b[39m \u001b[39m2\u001b[39m\n\u001b[0;32m     <a href='vscode-notebook-cell:/c%3A/Users/william.gregory/OneDrive%20-%20West%20Point/Documents/GitHub/LLM-Explainability-w-IT--.py-/Synonym_Generation.ipynb#W4sZmlsZQ%3D%3D?line=14'>15</a>\u001b[0m \u001b[39mprint\u001b[39m(sentence_covering_array)\n",
      "\u001b[1;32mc:\\Users\\william.gregory\\OneDrive - West Point\\Documents\\GitHub\\LLM-Explainability-w-IT--.py-\\Synonym_Generation.ipynb Cell 5\u001b[0m line \u001b[0;36m1\n\u001b[0;32m      <a href='vscode-notebook-cell:/c%3A/Users/william.gregory/OneDrive%20-%20West%20Point/Documents/GitHub/LLM-Explainability-w-IT--.py-/Synonym_Generation.ipynb#W4sZmlsZQ%3D%3D?line=8'>9</a>\u001b[0m ca_list \u001b[39m=\u001b[39m []\n\u001b[0;32m     <a href='vscode-notebook-cell:/c%3A/Users/william.gregory/OneDrive%20-%20West%20Point/Documents/GitHub/LLM-Explainability-w-IT--.py-/Synonym_Generation.ipynb#W4sZmlsZQ%3D%3D?line=9'>10</a>\u001b[0m \u001b[39mfor\u001b[39;00m row \u001b[39min\u001b[39;00m \u001b[39mrange\u001b[39m(en):\n\u001b[1;32m---> <a href='vscode-notebook-cell:/c%3A/Users/william.gregory/OneDrive%20-%20West%20Point/Documents/GitHub/LLM-Explainability-w-IT--.py-/Synonym_Generation.ipynb#W4sZmlsZQ%3D%3D?line=10'>11</a>\u001b[0m     ca_list\u001b[39m.\u001b[39mappend(random\u001b[39m.\u001b[39mchoices(\u001b[39mrange\u001b[39;49m(nyms),k\u001b[39m=\u001b[39mkeh))\n\u001b[0;32m     <a href='vscode-notebook-cell:/c%3A/Users/william.gregory/OneDrive%20-%20West%20Point/Documents/GitHub/LLM-Explainability-w-IT--.py-/Synonym_Generation.ipynb#W4sZmlsZQ%3D%3D?line=11'>12</a>\u001b[0m \u001b[39mreturn\u001b[39;00m ca_list\n",
      "\u001b[1;31mTypeError\u001b[0m: 'list' object cannot be interpreted as an integer"
     ]
    }
   ],
   "source": [
    "import random\n",
    "from Gregory_CoveringArray import verify_covering_array\n",
    "\n",
    "t = 2\n",
    "k = len(nested_syns)\n",
    "N = random.randint(1,100)\n",
    "\n",
    "def sentence_covering_array(nyms, keh, en):\n",
    "    ca_list = []\n",
    "    for row in range(en):\n",
    "        ca_list.append(random.choices(range(nyms),k=keh))\n",
    "    return ca_list\n",
    "while verify_covering_array(sentence_covering_array(nested_syns, k, N)):\n",
    "    N *= 2\n",
    "print(sentence_covering_array)\n"
   ]
  }
 ],
 "metadata": {
  "kernelspec": {
   "display_name": "Python 3",
   "language": "python",
   "name": "python3"
  },
  "language_info": {
   "codemirror_mode": {
    "name": "ipython",
    "version": 3
   },
   "file_extension": ".py",
   "mimetype": "text/x-python",
   "name": "python",
   "nbconvert_exporter": "python",
   "pygments_lexer": "ipython3",
   "version": "3.11.4"
  },
  "orig_nbformat": 4
 },
 "nbformat": 4,
 "nbformat_minor": 2
}
