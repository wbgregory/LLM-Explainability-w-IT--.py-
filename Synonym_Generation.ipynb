{
 "cells": [
  {
   "cell_type": "code",
   "execution_count": 9,
   "metadata": {},
   "outputs": [
    {
     "name": "stdout",
     "output_type": "stream",
     "text": [
      "['ace', 'adept', 'champion', 'sensation', 'maven', 'mavin', 'virtuoso', 'genius', 'hotshot', 'star', 'superstar', 'whiz', 'whizz', 'wizard', 'wiz']\n",
      "['whiz']\n",
      "['whizz', 'whiz', 'whirr', 'whir', 'birr', 'purr']\n"
     ]
    }
   ],
   "source": [
    "from itertools import chain\n",
    "from nltk.corpus import wordnet\n",
    "for synset in wordnet.synsets('whiz'): \n",
    "    print(synset.lemma_names())"
   ]
  },
  {
   "cell_type": "code",
   "execution_count": 8,
   "metadata": {},
   "outputs": [
    {
     "name": "stderr",
     "output_type": "stream",
     "text": [
      "[nltk_data] Downloading package wordnet to\n",
      "[nltk_data]     C:\\Users\\william.gregory\\AppData\\Roaming\\nltk_data...\n"
     ]
    },
    {
     "data": {
      "text/plain": [
       "True"
      ]
     },
     "execution_count": 8,
     "metadata": {},
     "output_type": "execute_result"
    }
   ],
   "source": [
    "import nltk\n",
    "nltk.download('wordnet')"
   ]
  },
  {
   "cell_type": "code",
   "execution_count": 13,
   "metadata": {},
   "outputs": [
    {
     "ename": "UnsupportedOperation",
     "evalue": "not readable",
     "output_type": "error",
     "traceback": [
      "\u001b[1;31m---------------------------------------------------------------------------\u001b[0m",
      "\u001b[1;31mUnsupportedOperation\u001b[0m                      Traceback (most recent call last)",
      "\u001b[1;32mUntitled-1.ipynb Cell 3\u001b[0m line \u001b[0;36m1\n\u001b[0;32m     <a href='vscode-notebook-cell:Untitled-1.ipynb?jupyter-notebook#W2sdW50aXRsZWQ%3D?line=9'>10</a>\u001b[0m string_similar_words \u001b[39m=\u001b[39m \u001b[39mstr\u001b[39m(similar_words)\n\u001b[0;32m     <a href='vscode-notebook-cell:Untitled-1.ipynb?jupyter-notebook#W2sdW50aXRsZWQ%3D?line=10'>11</a>\u001b[0m syn_file\u001b[39m.\u001b[39mwrite(string_similar_words)\n\u001b[1;32m---> <a href='vscode-notebook-cell:Untitled-1.ipynb?jupyter-notebook#W2sdW50aXRsZWQ%3D?line=11'>12</a>\u001b[0m \u001b[39mfor\u001b[39;49;00m added_word \u001b[39min\u001b[39;49;00m syn_file:\n\u001b[0;32m     <a href='vscode-notebook-cell:Untitled-1.ipynb?jupyter-notebook#W2sdW50aXRsZWQ%3D?line=12'>13</a>\u001b[0m     added_word \u001b[39m=\u001b[39;49m added_word\u001b[39m.\u001b[39;49mstrip()\n\u001b[0;32m     <a href='vscode-notebook-cell:Untitled-1.ipynb?jupyter-notebook#W2sdW50aXRsZWQ%3D?line=13'>14</a>\u001b[0m     w1 \u001b[39m=\u001b[39;49m wordnet\u001b[39m.\u001b[39;49msynset(word)\n",
      "\u001b[1;31mUnsupportedOperation\u001b[0m: not readable"
     ]
    }
   ],
   "source": [
    "synonym_sentence = 'can you drink alcoholic drink in populace in kingdom of denmark?'\n",
    "highest_sim_level = 0\n",
    "most_acc_word = ''\n",
    "split_sentence = synonym_sentence.strip()\n",
    "for word in split_sentence:\n",
    "    for synset in wordnet.synsets(word):\n",
    "        synonym_list = word + '_synonym_list'\n",
    "        syn_file = open(synonym_list, 'w+')\n",
    "        similar_words = synset.lemma_names()\n",
    "        string_similar_words = str(similar_words)\n",
    "        syn_file.write(string_similar_words)\n",
    "        for added_word in syn_file:\n",
    "            added_word = added_word.strip()\n",
    "            w1 = wordnet.synset(word)\n",
    "            w2 = wordnet.synset(added_word) \n",
    "            sim_level = (w1.wup_similarity(w2)) \n",
    "            added_word_string = str(added_word)\n",
    "            if sim_level > highest_sim_level:\n",
    "                highest_sim_level += sim_level\n",
    "                most_acc_word = added_word_string\n",
    "print(highest_sim_level)\n",
    "print(most_acc_word)\n",
    "\n"
   ]
  },
  {
   "cell_type": "code",
   "execution_count": 11,
   "metadata": {},
   "outputs": [
    {
     "name": "stdout",
     "output_type": "stream",
     "text": [
      "[['can', 'can', 'can', 'can', 'buttocks', 'toilet', 'toilet', 'can', 'displace'], ['you'], ['drink', 'drink', 'drink', 'beverage', 'drink', 'swallow', 'drink', 'drink', 'toast', 'drink_in', 'drink'], ['alcoholic', 'alcoholic', 'alcoholic', 'alcoholic'], ['drink', 'inch', 'indium', 'indiana', 'in', 'in', 'in', 'in'], ['in', 'populace'], ['populace', 'kingdom', 'kingdom', 'kingdom', 'kingdom', 'kingdom', 'kingdom'], ['in'], ['kingdom', 'denmark'], ['of'], ['denmark']]\n"
     ]
    }
   ],
   "source": [
    "from itertools import chain\n",
    "from nltk.corpus import wordnet\n",
    "from nltk.tokenize import RegexpTokenizer\n",
    "tokenizer = RegexpTokenizer(\"[\\w']+\")\n",
    "synonym_sentence = 'can you drink alcoholic drink in populace in kingdom of denmark'\n",
    "components = tokenizer.tokenize(synonym_sentence)\n",
    "highest_sim_level = 0\n",
    "most_acc_word = ''\n",
    "synonyms = dict()\n",
    "split_sentence = synonym_sentence.split()\n",
    "nested_accumulator = 0\n",
    "nested_syns = [ [] for num in range(len(components)) ]\n",
    "nested_accumulator = 0\n",
    "original_accumulator = 0\n",
    "for word in components:\n",
    "    syns = wordnet.synsets(word)\n",
    "    synonyms[word] = syns\n",
    "    nested_syns[original_accumulator].append(word)\n",
    "    original_accumulator += 1\n",
    "for key, value in synonyms.items():\n",
    "    file_name = str(key) + '_syns'\n",
    "    with open(file_name, 'w') as synonym_file:\n",
    "        for syn in value:\n",
    "            synonym_file.write(str(syn) + '\\n')\n",
    "        for syn in value:\n",
    "            syn_list = str(syn)\n",
    "            syn_list = syn_list.replace(\"Synset('\", \"\")\n",
    "            cut_off = syn_list.index('.')\n",
    "            isolated_syn = str(syn_list[0:cut_off])\n",
    "            nested_syns[nested_accumulator].append(isolated_syn)\n",
    "        nested_accumulator += 1\n",
    "print(nested_syns)\n",
    "\n",
    "#add original word to index portion of synonyms (no empty lists)"
   ]
  },
  {
   "cell_type": "code",
   "execution_count": 21,
   "metadata": {},
   "outputs": [
    {
     "name": "stdout",
     "output_type": "stream",
     "text": [
      "40\n",
      "80\n",
      "160\n",
      "320\n",
      "640\n",
      "1280\n",
      "2560\n",
      "5120\n",
      "10240\n",
      "20480\n",
      "40960\n",
      "81920\n",
      "163840\n",
      "327680\n",
      "655360\n",
      "1310720\n",
      "2621440\n",
      "5242880\n",
      "10485760\n",
      "20971520\n"
     ]
    },
    {
     "ename": "KeyboardInterrupt",
     "evalue": "",
     "output_type": "error",
     "traceback": [
      "\u001b[1;31m---------------------------------------------------------------------------\u001b[0m",
      "\u001b[1;31mKeyboardInterrupt\u001b[0m                         Traceback (most recent call last)",
      "\u001b[1;32mc:\\Users\\william.gregory\\OneDrive - West Point\\Documents\\GitHub\\LLM-Explainability-w-IT--.py-\\Synonym_Generation.ipynb Cell 5\u001b[0m line \u001b[0;36m3\n\u001b[0;32m     <a href='vscode-notebook-cell:/c%3A/Users/william.gregory/OneDrive%20-%20West%20Point/Documents/GitHub/LLM-Explainability-w-IT--.py-/Synonym_Generation.ipynb#W4sZmlsZQ%3D%3D?line=28'>29</a>\u001b[0m     \u001b[39mwhile\u001b[39;00m test \u001b[39m!=\u001b[39m \u001b[39mTrue\u001b[39;00m:\n\u001b[0;32m     <a href='vscode-notebook-cell:/c%3A/Users/william.gregory/OneDrive%20-%20West%20Point/Documents/GitHub/LLM-Explainability-w-IT--.py-/Synonym_Generation.ipynb#W4sZmlsZQ%3D%3D?line=29'>30</a>\u001b[0m             N \u001b[39m*\u001b[39m\u001b[39m=\u001b[39m \u001b[39m2\u001b[39m\n\u001b[1;32m---> <a href='vscode-notebook-cell:/c%3A/Users/william.gregory/OneDrive%20-%20West%20Point/Documents/GitHub/LLM-Explainability-w-IT--.py-/Synonym_Generation.ipynb#W4sZmlsZQ%3D%3D?line=30'>31</a>\u001b[0m             test \u001b[39m=\u001b[39m locating_array_verifier(sentence_covering_array(nested_syns, N), t, \u001b[39mlist\u001b[39m(\u001b[39mmap\u001b[39m(\u001b[39mlen\u001b[39m, nested_syns)), d)\n\u001b[0;32m     <a href='vscode-notebook-cell:/c%3A/Users/william.gregory/OneDrive%20-%20West%20Point/Documents/GitHub/LLM-Explainability-w-IT--.py-/Synonym_Generation.ipynb#W4sZmlsZQ%3D%3D?line=31'>32</a>\u001b[0m             \u001b[39mprint\u001b[39m(N)\n\u001b[0;32m     <a href='vscode-notebook-cell:/c%3A/Users/william.gregory/OneDrive%20-%20West%20Point/Documents/GitHub/LLM-Explainability-w-IT--.py-/Synonym_Generation.ipynb#W4sZmlsZQ%3D%3D?line=34'>35</a>\u001b[0m \u001b[39m#print(sentence_covering_array)\u001b[39;00m\n\u001b[0;32m     <a href='vscode-notebook-cell:/c%3A/Users/william.gregory/OneDrive%20-%20West%20Point/Documents/GitHub/LLM-Explainability-w-IT--.py-/Synonym_Generation.ipynb#W4sZmlsZQ%3D%3D?line=35'>36</a>\u001b[0m \n\u001b[0;32m     <a href='vscode-notebook-cell:/c%3A/Users/william.gregory/OneDrive%20-%20West%20Point/Documents/GitHub/LLM-Explainability-w-IT--.py-/Synonym_Generation.ipynb#W4sZmlsZQ%3D%3D?line=36'>37</a>\u001b[0m \u001b[39m#new_row = []\u001b[39;00m\n\u001b[1;32m   (...)\u001b[0m\n\u001b[0;32m     <a href='vscode-notebook-cell:/c%3A/Users/william.gregory/OneDrive%20-%20West%20Point/Documents/GitHub/LLM-Explainability-w-IT--.py-/Synonym_Generation.ipynb#W4sZmlsZQ%3D%3D?line=40'>41</a>\u001b[0m     \u001b[39m#new_row.append(x)\u001b[39;00m\n\u001b[0;32m     <a href='vscode-notebook-cell:/c%3A/Users/william.gregory/OneDrive%20-%20West%20Point/Documents/GitHub/LLM-Explainability-w-IT--.py-/Synonym_Generation.ipynb#W4sZmlsZQ%3D%3D?line=41'>42</a>\u001b[0m \u001b[39m#ca_list.append(new_list)\u001b[39;00m\n",
      "\u001b[1;32mc:\\Users\\william.gregory\\OneDrive - West Point\\Documents\\GitHub\\LLM-Explainability-w-IT--.py-\\Synonym_Generation.ipynb Cell 5\u001b[0m line \u001b[0;36m1\n\u001b[0;32m     <a href='vscode-notebook-cell:/c%3A/Users/william.gregory/OneDrive%20-%20West%20Point/Documents/GitHub/LLM-Explainability-w-IT--.py-/Synonym_Generation.ipynb#W4sZmlsZQ%3D%3D?line=11'>12</a>\u001b[0m \u001b[39m#new_row = list(random.choice(syns[val] for val in values))\u001b[39;00m\n\u001b[0;32m     <a href='vscode-notebook-cell:/c%3A/Users/william.gregory/OneDrive%20-%20West%20Point/Documents/GitHub/LLM-Explainability-w-IT--.py-/Synonym_Generation.ipynb#W4sZmlsZQ%3D%3D?line=12'>13</a>\u001b[0m \u001b[39mfor\u001b[39;00m _ \u001b[39min\u001b[39;00m \u001b[39mrange\u001b[39m(N):\n\u001b[1;32m---> <a href='vscode-notebook-cell:/c%3A/Users/william.gregory/OneDrive%20-%20West%20Point/Documents/GitHub/LLM-Explainability-w-IT--.py-/Synonym_Generation.ipynb#W4sZmlsZQ%3D%3D?line=13'>14</a>\u001b[0m     new_rows \u001b[39m=\u001b[39m \u001b[39mlist\u001b[39m(\u001b[39mmap\u001b[39m(random\u001b[39m.\u001b[39mchoice, values))\n\u001b[0;32m     <a href='vscode-notebook-cell:/c%3A/Users/william.gregory/OneDrive%20-%20West%20Point/Documents/GitHub/LLM-Explainability-w-IT--.py-/Synonym_Generation.ipynb#W4sZmlsZQ%3D%3D?line=14'>15</a>\u001b[0m     ca_list\u001b[39m.\u001b[39mappend(new_rows)\n\u001b[0;32m     <a href='vscode-notebook-cell:/c%3A/Users/william.gregory/OneDrive%20-%20West%20Point/Documents/GitHub/LLM-Explainability-w-IT--.py-/Synonym_Generation.ipynb#W4sZmlsZQ%3D%3D?line=15'>16</a>\u001b[0m \u001b[39m#syn_location = 0\u001b[39;00m\n\u001b[0;32m     <a href='vscode-notebook-cell:/c%3A/Users/william.gregory/OneDrive%20-%20West%20Point/Documents/GitHub/LLM-Explainability-w-IT--.py-/Synonym_Generation.ipynb#W4sZmlsZQ%3D%3D?line=16'>17</a>\u001b[0m \u001b[39m#word_location = 0\u001b[39;00m\n\u001b[0;32m     <a href='vscode-notebook-cell:/c%3A/Users/william.gregory/OneDrive%20-%20West%20Point/Documents/GitHub/LLM-Explainability-w-IT--.py-/Synonym_Generation.ipynb#W4sZmlsZQ%3D%3D?line=17'>18</a>\u001b[0m \u001b[39m#for row in range(en):\u001b[39;00m\n\u001b[0;32m     <a href='vscode-notebook-cell:/c%3A/Users/william.gregory/OneDrive%20-%20West%20Point/Documents/GitHub/LLM-Explainability-w-IT--.py-/Synonym_Generation.ipynb#W4sZmlsZQ%3D%3D?line=18'>19</a>\u001b[0m     \u001b[39m#ca_list.append(random.choice(nyms[syn_location][word_location]))\u001b[39;00m\n",
      "File \u001b[1;32mc:\\Program Files\\Python311\\Lib\\random.py:367\u001b[0m, in \u001b[0;36mRandom.choice\u001b[1;34m(self, seq)\u001b[0m\n\u001b[0;32m    362\u001b[0m     \u001b[39mreturn\u001b[39;00m \u001b[39mself\u001b[39m\u001b[39m.\u001b[39mrandrange(a, b\u001b[39m+\u001b[39m\u001b[39m1\u001b[39m)\n\u001b[0;32m    365\u001b[0m \u001b[39m## -------------------- sequence methods  -------------------\u001b[39;00m\n\u001b[1;32m--> 367\u001b[0m \u001b[39mdef\u001b[39;00m \u001b[39mchoice\u001b[39m(\u001b[39mself\u001b[39m, seq):\n\u001b[0;32m    368\u001b[0m \u001b[39m    \u001b[39m\u001b[39m\"\"\"Choose a random element from a non-empty sequence.\"\"\"\u001b[39;00m\n\u001b[0;32m    370\u001b[0m     \u001b[39m# As an accommodation for NumPy, we don't use \"if not seq\"\u001b[39;00m\n\u001b[0;32m    371\u001b[0m     \u001b[39m# because bool(numpy.array()) raises a ValueError.\u001b[39;00m\n",
      "\u001b[1;31mKeyboardInterrupt\u001b[0m: "
     ]
    }
   ],
   "source": [
    "import random\n",
    "#from Gregory_CoveringArray import verify_covering_array\n",
    "from Gregory_LocatingArray import locating_array_verifier\n",
    "\n",
    "t = 2\n",
    "k = len(nested_syns)\n",
    "N = 10\n",
    "d = 1\n",
    "\n",
    "def sentence_covering_array(values, N):\n",
    "    ca_list = []\n",
    "    #new_row = list(random.choice(syns[val] for val in values))\n",
    "    for _ in range(N):\n",
    "        new_rows = list(map(random.choice, values))\n",
    "        ca_list.append(new_rows)\n",
    "    #syn_location = 0\n",
    "    #word_location = 0\n",
    "    #for row in range(en):\n",
    "        #ca_list.append(random.choice(nyms[syn_location][word_location]))\n",
    "    return ca_list\n",
    "# while locating_array_verifier(sentence_covering_array(nested_syns, N), t, list(map(len, nested_syns)), d):\n",
    "#     N *= 2\n",
    "\n",
    "if locating_array_verifier(sentence_covering_array(nested_syns, N), t, list(map(len, nested_syns)), d):\n",
    "    print(f'This is a locating array!')\n",
    "else:\n",
    "    N *= 2\n",
    "    test = locating_array_verifier(sentence_covering_array(nested_syns, N), t, list(map(len, nested_syns)), d)\n",
    "    while test != True:\n",
    "            N *= 2\n",
    "            test = locating_array_verifier(sentence_covering_array(nested_syns, N), t, list(map(len, nested_syns)), d)\n",
    "            print(N)\n",
    "\n",
    "\n",
    "#print(sentence_covering_array)\n",
    "\n",
    "#new_row = []\n",
    "#for col in range(k):\n",
    "    #num_vals = vs[col]\n",
    "    #x = random.choice(range(num_vals))\n",
    "    #new_row.append(x)\n",
    "#ca_list.append(new_list)\n"
   ]
  }
 ],
 "metadata": {
  "kernelspec": {
   "display_name": "Python 3",
   "language": "python",
   "name": "python3"
  },
  "language_info": {
   "codemirror_mode": {
    "name": "ipython",
    "version": 3
   },
   "file_extension": ".py",
   "mimetype": "text/x-python",
   "name": "python",
   "nbconvert_exporter": "python",
   "pygments_lexer": "ipython3",
   "version": "3.11.4"
  },
  "orig_nbformat": 4
 },
 "nbformat": 4,
 "nbformat_minor": 2
}
